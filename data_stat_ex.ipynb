{
 "cells": [
  {
   "cell_type": "code",
   "execution_count": 1,
   "id": "7ebb057a-cc03-41d1-b9ea-5da292f76b55",
   "metadata": {},
   "outputs": [],
   "source": [
    "import os\n",
    "import json\n",
    "import numpy as np"
   ]
  },
  {
   "cell_type": "code",
   "execution_count": 2,
   "id": "84f529b2-b45b-4cca-b88b-cae6736c71a1",
   "metadata": {},
   "outputs": [],
   "source": [
    "data_dir = \"/home/hajung/DATADIR/BioASQ-training11b/\"\n",
    "file = \"training11b.json\""
   ]
  },
  {
   "cell_type": "code",
   "execution_count": 3,
   "id": "ded23851-eb39-4d2e-958e-66ccdcc2ffab",
   "metadata": {},
   "outputs": [],
   "source": [
    "data = json.load(open(os.path.join(data_dir, file), 'r'))"
   ]
  },
  {
   "cell_type": "code",
   "execution_count": 4,
   "id": "e131cbdb-39e5-4eb9-b643-5cf044185d05",
   "metadata": {},
   "outputs": [
    {
     "data": {
      "text/plain": [
       "dict_keys(['questions'])"
      ]
     },
     "execution_count": 4,
     "metadata": {},
     "output_type": "execute_result"
    }
   ],
   "source": [
    "data.keys()"
   ]
  },
  {
   "cell_type": "code",
   "execution_count": 5,
   "id": "cbe6ca82-cbd0-47c5-a3a3-d978dc159be4",
   "metadata": {},
   "outputs": [
    {
     "data": {
      "text/plain": [
       "4719"
      ]
     },
     "execution_count": 5,
     "metadata": {},
     "output_type": "execute_result"
    }
   ],
   "source": [
    "len(data['questions'])"
   ]
  },
  {
   "cell_type": "code",
   "execution_count": 6,
   "id": "e807dac5-2c4c-4f11-807a-ff72033b966c",
   "metadata": {},
   "outputs": [],
   "source": [
    "def show_stats():\n",
    "    q_types=['factoid', 'yesno', 'summary', 'list']\n",
    "    stats={k:{'q_num':0, 'q_len':[], 'answer':[], 'docs_num':[]} for k in q_types}\n",
    "    questions = data['questions']\n",
    "    for i in range(len(questions)):\n",
    "        d = questions[i]\n",
    "        q_type=d['type']\n",
    "        stats[q_type]['q_num'] += 1\n",
    "        stats[q_type]['q_len'].append(len(d['body'].split(' ')))\n",
    "        stats[q_type]['docs_num'].append(len(d['documents']))\n",
    "        if q_type == 'yesno':\n",
    "            if len(stats[q_type]['answer']) ==0:\n",
    "                stats[q_type]['answer'].append({'yes':0, 'no':0})\n",
    "            else:\n",
    "                stats[q_type]['answer'][0][d['exact_answer']] += 1\n",
    "        elif q_type == 'list':\n",
    "            stats[q_type]['answer'].append(len(d['exact_answer']))\n",
    "        elif q_type == 'summary':\n",
    "            stats[q_type]['answer'].append(len(d['ideal_answer'][0].split(' ')))\n",
    "                                           \n",
    "    for q_type in q_types:\n",
    "        stats[q_type]['q_len'] = round(np.mean(stats[q_type]['q_len']), 3)\n",
    "        stats[q_type]['docs_num'] = round(np.mean(stats[q_type]['docs_num']), 3)\n",
    "        if q_type in ['list', 'summary']:\n",
    "            stats[q_type]['answer'] =  round(np.mean(stats[q_type]['answer']), 3)\n",
    "        elif q_type == 'factoid':\n",
    "            stats[q_type]['answer'] = 1\n",
    "            \n",
    "    return stats"
   ]
  },
  {
   "cell_type": "code",
   "execution_count": 7,
   "id": "863cd95a-064f-4df5-bb21-a4517415dcbd",
   "metadata": {},
   "outputs": [],
   "source": [
    "stats= show_stats()"
   ]
  },
  {
   "cell_type": "code",
   "execution_count": 8,
   "id": "9a009fd5-ee0e-4a9a-98b7-2dec3eb61dc8",
   "metadata": {},
   "outputs": [
    {
     "data": {
      "text/plain": [
       "{'q_num': 1417, 'q_len': 9.119, 'answer': 1, 'docs_num': 8.747}"
      ]
     },
     "execution_count": 8,
     "metadata": {},
     "output_type": "execute_result"
    }
   ],
   "source": [
    "stats['factoid']"
   ]
  },
  {
   "cell_type": "code",
   "execution_count": 9,
   "id": "9003acc7-f814-4861-870a-95db69f3a91d",
   "metadata": {},
   "outputs": [
    {
     "data": {
      "text/plain": [
       "{'q_num': 1271,\n",
       " 'q_len': 8.62,\n",
       " 'answer': [{'yes': 954, 'no': 316}],\n",
       " 'docs_num': 8.994}"
      ]
     },
     "execution_count": 9,
     "metadata": {},
     "output_type": "execute_result"
    }
   ],
   "source": [
    "stats['yesno']"
   ]
  },
  {
   "cell_type": "code",
   "execution_count": 10,
   "id": "9631b23c-9fd1-4106-aaad-7f9057501a24",
   "metadata": {},
   "outputs": [
    {
     "data": {
      "text/plain": [
       "{'q_num': 901, 'q_len': 9.109, 'answer': 4.737, 'docs_num': 10.477}"
      ]
     },
     "execution_count": 10,
     "metadata": {},
     "output_type": "execute_result"
    }
   ],
   "source": [
    "stats['list']"
   ]
  },
  {
   "cell_type": "code",
   "execution_count": 11,
   "id": "796b7542-d43c-47f8-b3ec-ea32184bbfc3",
   "metadata": {},
   "outputs": [
    {
     "data": {
      "text/plain": [
       "{'q_num': 1130, 'q_len': 7.622, 'answer': 55.812, 'docs_num': 8.267}"
      ]
     },
     "execution_count": 11,
     "metadata": {},
     "output_type": "execute_result"
    }
   ],
   "source": [
    "stats['summary']"
   ]
  },
  {
   "cell_type": "code",
   "execution_count": 12,
   "id": "a76f471b-25dd-486a-922b-ee1a5b02dc01",
   "metadata": {},
   "outputs": [],
   "source": [
    "def show_data(type='yesno', num=None):\n",
    "    questions = data['questions']\n",
    "    if num==None:\n",
    "        for i in range(len(questions)):\n",
    "            if questions[i]['type']==type:\n",
    "                num=i\n",
    "                break\n",
    "                \n",
    "    d = questions[num]\n",
    "    print(f'Question type: {type}')\n",
    "    print(d.keys())\n",
    "    for k, v in d.items():\n",
    "        if not k in ['documents', 'concepts', 'triples', 'id', 'snippets']:\n",
    "            print(f'{k}: {v}')\n",
    "            if k=='body':\n",
    "                print('\\t','Length of question: {}'.format(len(d['body'].split(' '))))"
   ]
  },
  {
   "cell_type": "code",
   "execution_count": 13,
   "id": "c8f832ca-a4b4-4166-84db-a69faa0cfb0e",
   "metadata": {},
   "outputs": [
    {
     "name": "stdout",
     "output_type": "stream",
     "text": [
      "Question type: summary\n",
      "dict_keys(['body', 'documents', 'ideal_answer', 'concepts', 'type', 'id', 'snippets'])\n",
      "body: Is Hirschsprung disease a mendelian or a multifactorial disorder?\n",
      "\t Length of question: 9\n",
      "ideal_answer: [\"Coding sequence mutations in RET, GDNF, EDNRB, EDN3, and SOX10 are involved in the development of Hirschsprung disease. The majority of these genes was shown to be related to Mendelian syndromic forms of Hirschsprung's disease, whereas the non-Mendelian inheritance of sporadic non-syndromic Hirschsprung disease proved to be complex; involvement of multiple loci was demonstrated in a multiplicative model.\"]\n",
      "type: summary\n"
     ]
    }
   ],
   "source": [
    "show_data(type='summary')"
   ]
  },
  {
   "cell_type": "code",
   "execution_count": 14,
   "id": "9240420f-bbff-4f13-b48e-7ad9664a53d9",
   "metadata": {},
   "outputs": [
    {
     "name": "stdout",
     "output_type": "stream",
     "text": [
      "Question type: yesno\n",
      "dict_keys(['body', 'documents', 'ideal_answer', 'exact_answer', 'type', 'id', 'snippets'])\n",
      "body: Is the protein Papilin secreted?\n",
      "\t Length of question: 5\n",
      "ideal_answer: ['Yes,  papilin is a secreted protein']\n",
      "exact_answer: yes\n",
      "type: yesno\n"
     ]
    }
   ],
   "source": [
    "show_data(type='yesno')"
   ]
  },
  {
   "cell_type": "code",
   "execution_count": 15,
   "id": "154fc68f-d032-4f37-a4e4-d4c3b3ae6e2e",
   "metadata": {},
   "outputs": [
    {
     "name": "stdout",
     "output_type": "stream",
     "text": [
      "Question type: factoid\n",
      "dict_keys(['body', 'documents', 'ideal_answer', 'exact_answer', 'type', 'id', 'snippets'])\n",
      "body: Name synonym of Acrokeratosis paraneoplastica.\n",
      "\t Length of question: 5\n",
      "ideal_answer: ['Acrokeratosis paraneoplastic (Bazex syndrome) is a rare, but distinctive paraneoplastic dermatosis characterized by erythematosquamous lesions located at the acral sites and is most commonly associated with carcinomas of the upper aerodigestive tract.']\n",
      "exact_answer: ['Bazex syndrome']\n",
      "type: factoid\n"
     ]
    }
   ],
   "source": [
    "show_data(type='factoid')"
   ]
  },
  {
   "cell_type": "code",
   "execution_count": 16,
   "id": "c8e82119-9dd3-44d5-9508-15b0044891d7",
   "metadata": {},
   "outputs": [
    {
     "name": "stdout",
     "output_type": "stream",
     "text": [
      "Question type: list\n",
      "dict_keys(['body', 'documents', 'triples', 'ideal_answer', 'exact_answer', 'concepts', 'type', 'id', 'snippets'])\n",
      "body: List signaling molecules (ligands) that interact with the receptor EGFR?\n",
      "\t Length of question: 10\n",
      "ideal_answer: ['The 7 known EGFR ligands  are: epidermal growth factor (EGF), betacellulin (BTC), epiregulin (EPR), heparin-binding EGF (HB-EGF), transforming growth factor-α [TGF-α], amphiregulin (AREG) and epigen (EPG).']\n",
      "exact_answer: [['epidermal growth factor'], ['betacellulin'], ['epiregulin'], ['heparin-binding epidermal growth factor'], ['transforming growth factor-α'], ['amphiregulin'], ['epigen']]\n",
      "type: list\n"
     ]
    }
   ],
   "source": [
    "show_data(type='list')"
   ]
  },
  {
   "cell_type": "code",
   "execution_count": null,
   "id": "8a974f38-2ce2-46f7-847c-48e98458e7ed",
   "metadata": {},
   "outputs": [],
   "source": []
  }
 ],
 "metadata": {
  "kernelspec": {
   "display_name": "transformer",
   "language": "python",
   "name": "transformer"
  },
  "language_info": {
   "codemirror_mode": {
    "name": "ipython",
    "version": 3
   },
   "file_extension": ".py",
   "mimetype": "text/x-python",
   "name": "python",
   "nbconvert_exporter": "python",
   "pygments_lexer": "ipython3",
   "version": "3.9.16"
  }
 },
 "nbformat": 4,
 "nbformat_minor": 5
}
